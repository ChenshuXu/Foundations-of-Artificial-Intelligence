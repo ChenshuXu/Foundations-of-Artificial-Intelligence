{
 "cells": [
  {
   "cell_type": "code",
   "execution_count": 1,
   "metadata": {
    "collapsed": true
   },
   "outputs": [],
   "source": [
    "import numpy as np"
   ]
  },
  {
   "cell_type": "code",
   "execution_count": 2,
   "metadata": {
    "pycharm": {
     "name": "#%%\n"
    }
   },
   "outputs": [
    {
     "name": "stdout",
     "output_type": "stream",
     "text": [
      "(4, 2)\n"
     ]
    },
    {
     "data": {
      "text/plain": "array([[0, 0],\n       [0, 1],\n       [1, 0],\n       [1, 1]])"
     },
     "execution_count": 2,
     "metadata": {},
     "output_type": "execute_result"
    }
   ],
   "source": [
    "# define input features:\n",
    "input_features = np.array([[0,0], [0,1], [1,0], [1,1]])\n",
    "print(input_features.shape)\n",
    "input_features"
   ]
  },
  {
   "cell_type": "code",
   "execution_count": 3,
   "metadata": {
    "pycharm": {
     "name": "#%%\n"
    }
   },
   "outputs": [
    {
     "name": "stdout",
     "output_type": "stream",
     "text": [
      "(4, 1)\n"
     ]
    },
    {
     "data": {
      "text/plain": "array([[0],\n       [1],\n       [1],\n       [1]])"
     },
     "execution_count": 3,
     "metadata": {},
     "output_type": "execute_result"
    }
   ],
   "source": [
    "# define target output:\n",
    "target_output = np.array([[0,1,1,1]])\n",
    "\n",
    "# reshaping out target output into vector:\n",
    "target_output = target_output.reshape(4,1)\n",
    "print(target_output.shape)\n",
    "target_output"
   ]
  },
  {
   "cell_type": "code",
   "execution_count": 4,
   "metadata": {
    "pycharm": {
     "name": "#%%\n"
    }
   },
   "outputs": [
    {
     "name": "stdout",
     "output_type": "stream",
     "text": [
      "(2, 1)\n"
     ]
    },
    {
     "data": {
      "text/plain": "array([[0.1],\n       [0.2]])"
     },
     "execution_count": 4,
     "metadata": {},
     "output_type": "execute_result"
    }
   ],
   "source": [
    "# define weights:\n",
    "# because have two input features\n",
    "weights = np.array([[0.1], [0.2]])\n",
    "print(weights.shape)\n",
    "weights"
   ]
  },
  {
   "cell_type": "code",
   "execution_count": 5,
   "metadata": {
    "pycharm": {
     "name": "#%%\n"
    }
   },
   "outputs": [],
   "source": [
    "# The value of bias = 1\n",
    "# bias weight:\n",
    "bias = 0.3\n",
    "# learning rate:\n",
    "lr = 0.05"
   ]
  },
  {
   "cell_type": "code",
   "execution_count": 6,
   "metadata": {
    "pycharm": {
     "name": "#%%\n"
    }
   },
   "outputs": [],
   "source": [
    "def sigmoid(x):\n",
    "    return 1 / (1 + np.exp(-x))"
   ]
  },
  {
   "cell_type": "code",
   "execution_count": 7,
   "metadata": {
    "pycharm": {
     "name": "#%%\n"
    }
   },
   "outputs": [],
   "source": [
    "# Derivative of sigmoid function\n",
    "def sigmoid_der(x):\n",
    "    return sigmoid(x) * (1-sigmoid(x))"
   ]
  },
  {
   "cell_type": "code",
   "execution_count": 8,
   "metadata": {
    "pycharm": {
     "name": "#%%\n"
    }
   },
   "outputs": [],
   "source": [
    "# Running our code 10000 times:\n",
    "for epoch in range(10000):\n",
    "    inputs = input_features\n",
    "\n",
    "    # Feedforward input:\n",
    "    in_o = np.dot(inputs, weights) + bias\n",
    "\n",
    "    # Feedforward output:\n",
    "    out_o = sigmoid(in_o)\n",
    "\n",
    "    # Backpropogation\n",
    "    # Calculating error\n",
    "    error = out_o - target_output\n",
    "\n",
    "    #G oing with the formula:\n",
    "    x = error.sum()\n",
    "    # print(x)\n",
    "\n",
    "    # Calculating derivative:\n",
    "    derror_douto = error\n",
    "    douto_dino = sigmoid_der(out_o)\n",
    "\n",
    "    # Multiplying individual derivatives:\n",
    "    deriv = derror_douto * douto_dino\n",
    "\n",
    "    # Multiplying with the 3rd individual derivative:\n",
    "    # Finding the transpose of input_features:\n",
    "    inputs = input_features.T\n",
    "    deriv_final = np.dot(inputs, deriv)\n",
    "\n",
    "    # Updating the weights values:\n",
    "    weights -= lr * deriv_final\n",
    "\n",
    "    # Updating the bias weight value:\n",
    "    for i in deriv:\n",
    "        bias -= lr * i"
   ]
  },
  {
   "cell_type": "code",
   "execution_count": 9,
   "metadata": {
    "pycharm": {
     "name": "#%%\n"
    }
   },
   "outputs": [
    {
     "name": "stdout",
     "output_type": "stream",
     "text": [
      "[[7.00922425]\n",
      " [7.00953281]]\n",
      "[-3.14905135]\n"
     ]
    }
   ],
   "source": [
    "#Check the final values for weight and bias\n",
    "print (weights)\n",
    "print (bias)"
   ]
  },
  {
   "cell_type": "code",
   "execution_count": 10,
   "metadata": {
    "pycharm": {
     "name": "#%%\n"
    }
   },
   "outputs": [
    {
     "name": "stdout",
     "output_type": "stream",
     "text": [
      "[0.9793702]\n"
     ]
    }
   ],
   "source": [
    "#Taking inputs:\n",
    "single_point = np.array([1,0])\n",
    "\n",
    "#1st step:\n",
    "result1 = np.dot(single_point, weights) + bias\n",
    "\n",
    "#2nd step:\n",
    "result2 = sigmoid(result1)\n",
    "\n",
    "#Print final result\n",
    "print(result2)"
   ]
  },
  {
   "cell_type": "code",
   "execution_count": 11,
   "metadata": {
    "pycharm": {
     "name": "#%%\n"
    }
   },
   "outputs": [
    {
     "name": "stdout",
     "output_type": "stream",
     "text": [
      "[0.99998097]\n"
     ]
    }
   ],
   "source": [
    "#Taking inputs:\n",
    "single_point = np.array([1,1])\n",
    "\n",
    "#1st step:\n",
    "result1 = np.dot(single_point, weights) + bias\n",
    "\n",
    "#2nd step:\n",
    "result2 = sigmoid(result1)\n",
    "\n",
    "#Print final result\n",
    "print(result2)"
   ]
  },
  {
   "cell_type": "code",
   "execution_count": 12,
   "metadata": {
    "pycharm": {
     "name": "#%%\n"
    }
   },
   "outputs": [
    {
     "name": "stdout",
     "output_type": "stream",
     "text": [
      "[0.04112867]\n"
     ]
    }
   ],
   "source": [
    "#Taking inputs:\n",
    "single_point = np.array([0,0])\n",
    "\n",
    "#1st step:\n",
    "result1 = np.dot(single_point, weights) + bias\n",
    "\n",
    "#2nd step:\n",
    "result2 = sigmoid(result1)\n",
    "\n",
    "#Print final result\n",
    "print(result2)"
   ]
  }
 ],
 "metadata": {
  "kernelspec": {
   "display_name": "Python 3",
   "language": "python",
   "name": "python3"
  },
  "language_info": {
   "codemirror_mode": {
    "name": "ipython",
    "version": 3
   },
   "file_extension": ".py",
   "mimetype": "text/x-python",
   "name": "python",
   "nbconvert_exporter": "python",
   "pygments_lexer": "ipython3",
   "version": "3.6.8"
  }
 },
 "nbformat": 4,
 "nbformat_minor": 1
}