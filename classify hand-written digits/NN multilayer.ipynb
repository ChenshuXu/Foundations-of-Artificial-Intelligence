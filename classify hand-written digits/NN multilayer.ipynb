{
 "cells": [
  {
   "cell_type": "code",
   "execution_count": 1,
   "metadata": {},
   "outputs": [],
   "source": [
    "# Import required libraries :\n",
    "import numpy as np"
   ]
  },
  {
   "cell_type": "code",
   "source": [
    "# Define input features :\n",
    "input_features = np.array([[0,0],[0,1],[1,0],[1,1]])\n",
    "print(input_features.shape)\n",
    "input_features"
   ],
   "metadata": {
    "collapsed": false,
    "pycharm": {
     "name": "#%%\n"
    }
   },
   "execution_count": 2,
   "outputs": [
    {
     "name": "stdout",
     "output_type": "stream",
     "text": [
      "(4, 2)\n"
     ]
    },
    {
     "data": {
      "text/plain": "array([[0, 0],\n       [0, 1],\n       [1, 0],\n       [1, 1]])"
     },
     "execution_count": 2,
     "metadata": {},
     "output_type": "execute_result"
    }
   ]
  },
  {
   "cell_type": "code",
   "execution_count": 3,
   "outputs": [
    {
     "name": "stdout",
     "output_type": "stream",
     "text": [
      "(4, 1)\n"
     ]
    },
    {
     "data": {
      "text/plain": "array([[0],\n       [1],\n       [1],\n       [1]])"
     },
     "execution_count": 3,
     "metadata": {},
     "output_type": "execute_result"
    }
   ],
   "source": [
    "# Define target output :\n",
    "target_output = np.array([[0,1,1,1]])\n",
    "# Reshaping our target output into vector :\n",
    "target_output = target_output.reshape(4,1)\n",
    "print(target_output.shape)\n",
    "target_output"
   ],
   "metadata": {
    "collapsed": false,
    "pycharm": {
     "name": "#%%\n"
    }
   }
  },
  {
   "cell_type": "code",
   "execution_count": 4,
   "outputs": [],
   "source": [
    "# Define weights :\n",
    "# 6 for hidden layer\n",
    "# 3 for output layer\n",
    "# 9 total\n",
    "weight_hidden = np.array([[0.1,0.2,0.3], [0.4,0.5,0.6]])\n",
    "weight_output = np.array([[0.7],[0.8],[0.9]])\n",
    "# Learning Rate :\n",
    "lr = 0.05"
   ],
   "metadata": {
    "collapsed": false,
    "pycharm": {
     "name": "#%%\n"
    }
   }
  },
  {
   "cell_type": "markdown",
   "source": [
    "Once we have our weight values and input features, we are going to send it to the main function that predicts the output. Notice that our input features and weight values can be anything, but here we want to classify data, so we need the output between 0 and 1. For such output, we are going to use a sigmoid function."
   ],
   "metadata": {
    "collapsed": false,
    "pycharm": {
     "name": "#%% md\n"
    }
   }
  },
  {
   "cell_type": "code",
   "execution_count": 5,
   "outputs": [],
   "source": [
    "# Sigmoid function :\n",
    "def sigmoid(x):\n",
    "    return 1/(1+np.exp(-x))"
   ],
   "metadata": {
    "collapsed": false,
    "pycharm": {
     "name": "#%%\n"
    }
   }
  },
  {
   "cell_type": "markdown",
   "source": [
    "In a gradient descent algorithm, we need the derivative of the sigmoid function."
   ],
   "metadata": {
    "collapsed": false,
    "pycharm": {
     "name": "#%% md\n"
    }
   }
  },
  {
   "cell_type": "code",
   "execution_count": 6,
   "outputs": [],
   "source": [
    "# Derivative of sigmoid function :\n",
    "def sigmoid_der(x):\n",
    "    return sigmoid(x)*(1-sigmoid(x))"
   ],
   "metadata": {
    "collapsed": false,
    "pycharm": {
     "name": "#%%\n"
    }
   }
  },
  {
   "cell_type": "markdown",
   "source": [
    "The main logic for predicting output and updating the weight values:"
   ],
   "metadata": {
    "collapsed": false,
    "pycharm": {
     "name": "#%% md\n"
    }
   }
  },
  {
   "cell_type": "code",
   "execution_count": 7,
   "outputs": [],
   "source": [
    "for epoch in range(200000):\n",
    "    # Input for hidden layer :\n",
    "    input_hidden = np.dot(input_features, weight_hidden)\n",
    "\n",
    "    # Output from hidden layer :\n",
    "    output_hidden = sigmoid(input_hidden)\n",
    "\n",
    "    # Input for output layer :\n",
    "    input_op = np.dot(output_hidden, weight_output)\n",
    "\n",
    "    # Output from output layer :\n",
    "    output_op = sigmoid(input_op)\n",
    "\n",
    "    #==========================================================\n",
    "    # Phase1\n",
    "\n",
    "    # Calculating Mean Squared Error :\n",
    "    error_out = ((1 / 2) * (np.power((output_op - target_output), 2)))\n",
    "    # print(error_out.sum())\n",
    "\n",
    "    # Derivatives for phase 1 :\n",
    "    derror_douto = output_op - target_output\n",
    "    douto_dino = sigmoid_der(input_op)\n",
    "    dino_dwo = output_hidden\n",
    "\n",
    "    derror_dwo = np.dot(dino_dwo.T, derror_douto * douto_dino)\n",
    "\n",
    "    #===========================================================\n",
    "    # Phase 2\n",
    "    # derror_w1 = derror_douth * douth_dinh * dinh_dw1\n",
    "    # derror_douth = derror_dino * dino_outh\n",
    "\n",
    "    # Derivatives for phase 2 :\n",
    "    derror_dino = derror_douto * douto_dino\n",
    "    dino_douth = weight_output\n",
    "    derror_douth = np.dot(derror_dino , dino_douth.T)\n",
    "    douth_dinh = sigmoid_der(input_hidden)\n",
    "    dinh_dwh = input_features\n",
    "    derror_wh = np.dot(dinh_dwh.T, douth_dinh * derror_douth)\n",
    "\n",
    "    # Update Weights\n",
    "    weight_hidden -= lr * derror_wh\n",
    "    weight_output -= lr * derror_dwo"
   ],
   "metadata": {
    "collapsed": false,
    "pycharm": {
     "name": "#%%\n"
    }
   }
  },
  {
   "cell_type": "code",
   "execution_count": 8,
   "outputs": [
    {
     "name": "stdout",
     "output_type": "stream",
     "text": [
      "[[-3.82270773  2.36324803  3.13867107]\n",
      " [-3.79490945  2.45183148  3.18541383]]\n"
     ]
    }
   ],
   "source": [
    "# Final hidden layer weight values :\n",
    "print (weight_hidden)"
   ],
   "metadata": {
    "collapsed": false,
    "pycharm": {
     "name": "#%%\n"
    }
   }
  },
  {
   "cell_type": "code",
   "execution_count": 9,
   "outputs": [
    {
     "name": "stdout",
     "output_type": "stream",
     "text": [
      "[[-13.22689481]\n",
      " [  1.74391783]\n",
      " [  3.50426502]]\n"
     ]
    }
   ],
   "source": [
    "# Final output layer weight values :\n",
    "print (weight_output)"
   ],
   "metadata": {
    "collapsed": false,
    "pycharm": {
     "name": "#%%\n"
    }
   }
  },
  {
   "cell_type": "markdown",
   "source": [
    "Predictions :"
   ],
   "metadata": {
    "collapsed": false,
    "pycharm": {
     "name": "#%% md\n"
    }
   }
  },
  {
   "cell_type": "code",
   "execution_count": 10,
   "outputs": [
    {
     "name": "stdout",
     "output_type": "stream",
     "text": [
      "[0.99462917]\n"
     ]
    }
   ],
   "source": [
    "#Taking inputs :\n",
    "single_point = np.array([1,1])\n",
    "#1st step :\n",
    "result1 = np.dot(single_point, weight_hidden)\n",
    "#2nd step :\n",
    "result2 = sigmoid(result1)\n",
    "#3rd step :\n",
    "result3 = np.dot(result2,weight_output)\n",
    "#4th step :\n",
    "result4 = sigmoid(result3)\n",
    "print(result4)"
   ],
   "metadata": {
    "collapsed": false,
    "pycharm": {
     "name": "#%%\n"
    }
   }
  },
  {
   "cell_type": "code",
   "execution_count": 11,
   "outputs": [
    {
     "name": "stdout",
     "output_type": "stream",
     "text": [
      "[0.01817518]\n"
     ]
    }
   ],
   "source": [
    "#Taking inputs :\n",
    "single_point = np.array([0,0])\n",
    "#1st step :\n",
    "result1 = np.dot(single_point, weight_hidden)\n",
    "#2nd step :\n",
    "result2 = sigmoid(result1)\n",
    "#3rd step :\n",
    "result3 = np.dot(result2,weight_output)\n",
    "#4th step :\n",
    "result4 = sigmoid(result3)\n",
    "print(result4)"
   ],
   "metadata": {
    "collapsed": false,
    "pycharm": {
     "name": "#%%\n"
    }
   }
  },
  {
   "cell_type": "code",
   "execution_count": 12,
   "outputs": [
    {
     "name": "stdout",
     "output_type": "stream",
     "text": [
      "[0.99071056]\n"
     ]
    }
   ],
   "source": [
    "#Taking inputs :\n",
    "single_point = np.array([1,0])\n",
    "#1st step :\n",
    "result1 = np.dot(single_point, weight_hidden)\n",
    "#2nd step :\n",
    "result2 = sigmoid(result1)\n",
    "#3rd step :\n",
    "result3 = np.dot(result2,weight_output)\n",
    "#4th step :\n",
    "result4 = sigmoid(result3)\n",
    "print(result4)"
   ],
   "metadata": {
    "collapsed": false,
    "pycharm": {
     "name": "#%%\n"
    }
   }
  }
 ],
 "metadata": {
  "kernelspec": {
   "display_name": "Python 3",
   "language": "python",
   "name": "python3"
  },
  "language_info": {
   "codemirror_mode": {
    "name": "ipython",
    "version": 3
   },
   "file_extension": ".py",
   "mimetype": "text/x-python",
   "name": "python",
   "nbconvert_exporter": "python",
   "pygments_lexer": "ipython3",
   "version": "3.6.8"
  }
 },
 "nbformat": 4,
 "nbformat_minor": 4
}